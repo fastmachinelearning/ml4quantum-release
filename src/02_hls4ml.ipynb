{
 "cells": [
  {
   "cell_type": "code",
   "execution_count": 3,
   "metadata": {},
   "outputs": [],
   "source": [
    "import tensorflow as tf"
   ]
  },
  {
   "cell_type": "code",
   "execution_count": 4,
   "metadata": {},
   "outputs": [
    {
     "data": {
      "text/plain": [
       "'2.8.0'"
      ]
     },
     "execution_count": 4,
     "metadata": {},
     "output_type": "execute_result"
    }
   ],
   "source": [
    "tf.__version__"
   ]
  },
  {
   "cell_type": "code",
   "execution_count": 5,
   "metadata": {},
   "outputs": [],
   "source": [
    "co = {}\n",
    "from qkeras.utils import _add_supported_quantized_objects\n",
    "_add_supported_quantized_objects(co)\n",
    "model = tf.keras.models.load_model(\"../model/qmodel.h5\", custom_objects=co)"
   ]
  },
  {
   "cell_type": "code",
   "execution_count": 6,
   "metadata": {},
   "outputs": [
    {
     "name": "stdout",
     "output_type": "stream",
     "text": [
      "Model: \"sequential_14\"\n",
      "_________________________________________________________________\n",
      " Layer (type)                Output Shape              Param #   \n",
      "=================================================================\n",
      " fc1 (QDense)                (None, 4)                 8         \n",
      "                                                                 \n",
      " relu1 (QActivation)         (None, 4)                 0         \n",
      "                                                                 \n",
      " fc2e (QDense)               (None, 8)                 40        \n",
      "                                                                 \n",
      " relu2e (QActivation)        (None, 8)                 0         \n",
      "                                                                 \n",
      " fc3 (QDense)                (None, 11)                99        \n",
      "                                                                 \n",
      " relu3 (QActivation)         (None, 11)                0         \n",
      "                                                                 \n",
      " fc3e (QDense)               (None, 11)                132       \n",
      "                                                                 \n",
      " relu3e (QActivation)        (None, 11)                0         \n",
      "                                                                 \n",
      " fc3e2 (QDense)              (None, 11)                132       \n",
      "                                                                 \n",
      " relu3e2 (QActivation)       (None, 11)                0         \n",
      "                                                                 \n",
      " fc3e3 (QDense)              (None, 11)                132       \n",
      "                                                                 \n",
      " relu3e3 (QActivation)       (None, 11)                0         \n",
      "                                                                 \n",
      " output (QDense)             (None, 20)                240       \n",
      "                                                                 \n",
      "=================================================================\n",
      "Total params: 783\n",
      "Trainable params: 783\n",
      "Non-trainable params: 0\n",
      "_________________________________________________________________\n"
     ]
    }
   ],
   "source": [
    "model.summary()"
   ]
  },
  {
   "cell_type": "code",
   "execution_count": 55,
   "metadata": {},
   "outputs": [],
   "source": [
    "from qkeras.quantizers import get_quantizer"
   ]
  },
  {
   "cell_type": "code",
   "execution_count": 58,
   "metadata": {},
   "outputs": [],
   "source": [
    "# Manually requantize a layer\n",
    "def requantize(layer, bits, integer_bits):\n",
    "    quantizers = [layer.kernel_quantizer, layer.bias_quantizer]\n",
    "    new_quantizers = []\n",
    "    for quantizer in quantizers:\n",
    "        quantizer[\"config\"][\"bits\"] = bits\n",
    "        quantizer[\"config\"][\"integer\"] = integer_bits\n",
    "        new_quantizers.append(get_quantizer(quantizer))\n",
    "    layer.quantizers = new_quantizers\n"
   ]
  },
  {
   "cell_type": "code",
   "execution_count": 65,
   "metadata": {},
   "outputs": [],
   "source": [
    "layer_fc3 = model.layers[4]\n",
    "layer_output = model.layers[-1]\n",
    "requantize(layer_fc3, 10, 0)\n",
    "requantize(layer_fc3, 12, 0)"
   ]
  },
  {
   "cell_type": "code",
   "execution_count": 9,
   "metadata": {},
   "outputs": [],
   "source": [
    "import pandas as pd\n",
    "source_data = pd.read_csv(\"../data/xrotate.csv\", header=None)\n",
    "source_data.drop(0, inplace=True) # Drop -pi row for evaluation too"
   ]
  },
  {
   "cell_type": "code",
   "execution_count": 10,
   "metadata": {},
   "outputs": [],
   "source": [
    "X,Y = source_data.iloc[:,20], source_data.iloc[:,:20]"
   ]
  },
  {
   "cell_type": "code",
   "execution_count": 15,
   "metadata": {},
   "outputs": [],
   "source": [
    "import hls4ml"
   ]
  },
  {
   "cell_type": "code",
   "execution_count": 16,
   "metadata": {},
   "outputs": [
    {
     "data": {
      "text/plain": [
       "'0.6.0'"
      ]
     },
     "execution_count": 16,
     "metadata": {},
     "output_type": "execute_result"
    }
   ],
   "source": [
    "hls4ml.__version__"
   ]
  },
  {
   "cell_type": "code",
   "execution_count": 17,
   "metadata": {},
   "outputs": [],
   "source": [
    "hls4ml.model.optimizer.OutputRoundingSaturationMode.layers = ['Activation']\n",
    "hls4ml.model.optimizer.OutputRoundingSaturationMode.rounding_mode = 'AP_RND'\n",
    "hls4ml.model.optimizer.OutputRoundingSaturationMode.saturation_mode = 'AP_SAT'"
   ]
  },
  {
   "cell_type": "code",
   "execution_count": 18,
   "metadata": {},
   "outputs": [
    {
     "name": "stdout",
     "output_type": "stream",
     "text": [
      "Interpreting Sequential\n",
      "Topology:\n",
      "Layer name: fc1_input, layer type: Input\n",
      "Layer name: fc1, layer type: QDense\n",
      "Layer name: relu1, layer type: QActivation\n",
      "Layer name: fc2e, layer type: QDense\n",
      "Layer name: relu2e, layer type: QActivation\n",
      "Layer name: fc3, layer type: QDense\n",
      "Layer name: relu3, layer type: QActivation\n",
      "Layer name: fc3e, layer type: QDense\n",
      "Layer name: relu3e, layer type: QActivation\n",
      "Layer name: fc3e2, layer type: QDense\n",
      "Layer name: relu3e2, layer type: QActivation\n",
      "Layer name: fc3e3, layer type: QDense\n",
      "Layer name: relu3e3, layer type: QActivation\n",
      "Layer name: output, layer type: QDense\n"
     ]
    }
   ],
   "source": [
    "config = hls4ml.utils.config_from_keras_model(model, granularity='name')"
   ]
  },
  {
   "cell_type": "code",
   "execution_count": 19,
   "metadata": {},
   "outputs": [
    {
     "name": "stdout",
     "output_type": "stream",
     "text": [
      "Interpreting Sequential\n",
      "Topology:\n",
      "Layer name: fc1_input, layer type: InputLayer, input shapes: [[None, 1]], output shape: [None, 1]\n",
      "Layer name: fc1, layer type: QDense, input shapes: [[None, 1]], output shape: [None, 4]\n",
      "Layer name: relu1, layer type: Activation, input shapes: [[None, 4]], output shape: [None, 4]\n",
      "Layer name: fc2e, layer type: QDense, input shapes: [[None, 4]], output shape: [None, 8]\n",
      "Layer name: relu2e, layer type: Activation, input shapes: [[None, 8]], output shape: [None, 8]\n",
      "Layer name: fc3, layer type: QDense, input shapes: [[None, 8]], output shape: [None, 11]\n",
      "Layer name: relu3, layer type: Activation, input shapes: [[None, 11]], output shape: [None, 11]\n",
      "Layer name: fc3e, layer type: QDense, input shapes: [[None, 11]], output shape: [None, 11]\n",
      "Layer name: relu3e, layer type: Activation, input shapes: [[None, 11]], output shape: [None, 11]\n",
      "Layer name: fc3e2, layer type: QDense, input shapes: [[None, 11]], output shape: [None, 11]\n",
      "Layer name: relu3e2, layer type: Activation, input shapes: [[None, 11]], output shape: [None, 11]\n",
      "Layer name: fc3e3, layer type: QDense, input shapes: [[None, 11]], output shape: [None, 11]\n",
      "Layer name: relu3e3, layer type: Activation, input shapes: [[None, 11]], output shape: [None, 11]\n",
      "Layer name: output, layer type: QDense, input shapes: [[None, 11]], output shape: [None, 20]\n",
      "Creating HLS model\n"
     ]
    }
   ],
   "source": [
    "hls_model = hls4ml.converters.convert_from_keras_model(model, hls_config=config, output_dir='../model/hlsout', part='XC7A100T')"
   ]
  },
  {
   "cell_type": "code",
   "execution_count": null,
   "metadata": {},
   "outputs": [],
   "source": [
    "hls_model.compile()"
   ]
  },
  {
   "cell_type": "markdown",
   "metadata": {},
   "source": [
    "# Now, let's obtain alpha values from this model"
   ]
  },
  {
   "cell_type": "code",
   "execution_count": 20,
   "metadata": {},
   "outputs": [],
   "source": [
    "import numpy as np"
   ]
  },
  {
   "cell_type": "code",
   "execution_count": 21,
   "metadata": {},
   "outputs": [],
   "source": [
    "betas = list(X)"
   ]
  },
  {
   "cell_type": "code",
   "execution_count": 25,
   "metadata": {},
   "outputs": [],
   "source": [
    "def mse(a, b):\n",
    "     assert(len(a)==len(b))\n",
    "     accum = 0\n",
    "     for i in range(len(a)):\n",
    "             accum += (a[i]-b[i])**2\n",
    "     return accum/len(a)\n",
    "\n",
    "def eval_model_hls(m):\n",
    "    inputs = betas\n",
    "    outputs = Y.iloc\n",
    "    accum = 0\n",
    "    for i in range(len(inputs)):\n",
    "        real = outputs[i]\n",
    "        pred = m.predict(np.ascontiguousarray(inputs[i])).tolist()\n",
    "        accum += mse(real, pred)\n",
    "    return accum / len(inputs)"
   ]
  },
  {
   "cell_type": "code",
   "execution_count": null,
   "metadata": {},
   "outputs": [],
   "source": [
    "eval_model_hls(hls_model)"
   ]
  },
  {
   "cell_type": "code",
   "execution_count": null,
   "metadata": {},
   "outputs": [],
   "source": [
    "# For each beta, output a file with:\n",
    "# - Predicted alpha\n",
    "# - Beta value\n",
    "# - Training set alpha\n",
    "for i in range(len(X)):\n",
    "    predicted = hls_model.predict(np.ascontiguousarray(betas[i])).tolist()\n",
    "    beta = betas[i]\n",
    "    real = list(Y.iloc[i])\n",
    "    out_arr = predicted + [beta] + real + [\"\"]\n",
    "    out_arr = [str(x) for x in out_arr]\n",
    "    print(\"\\n\".join(out_arr))\n",
    "    assert(len(out_arr) == 20+1+20+1)\n",
    "    with open(\"../scratch/hls-outputs/tfout_\" + str(i) + \".txt\", \"w\") as f:\n",
    "        f.write(\"\\n\".join(out_arr))"
   ]
  }
 ],
 "metadata": {
  "interpreter": {
   "hash": "4e0adb4a8ca4dada456bcea7bb9f1b34fa1ebdf26216634bf58f5556a087d47b"
  },
  "kernelspec": {
   "display_name": "Python 3.7.12 ('hls4ml-tutorial')",
   "language": "python",
   "name": "python3"
  },
  "language_info": {
   "codemirror_mode": {
    "name": "ipython",
    "version": 3
   },
   "file_extension": ".py",
   "mimetype": "text/x-python",
   "name": "python",
   "nbconvert_exporter": "python",
   "pygments_lexer": "ipython3",
   "version": "3.7.12"
  },
  "orig_nbformat": 4
 },
 "nbformat": 4,
 "nbformat_minor": 2
}
