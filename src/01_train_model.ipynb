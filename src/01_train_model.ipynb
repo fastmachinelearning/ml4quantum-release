{
  "cells": [
    {
      "cell_type": "markdown",
      "metadata": {},
      "source": [
        "# QKeras Model #1"
      ]
    },
    {
      "cell_type": "code",
      "execution_count": 1,
      "metadata": {},
      "outputs": [],
      "source": [
        "import pandas as pd"
      ]
    },
    {
      "cell_type": "code",
      "execution_count": 6,
      "metadata": {
        "id": "TiojKzNoeQtH"
      },
      "outputs": [],
      "source": [
        "# Load data for our target gate family (rotations about Bloch sphere x-axis)\n",
        "df = pd.read_csv(\"../data/xrotate.csv\", header=None)"
      ]
    },
    {
      "cell_type": "code",
      "execution_count": 7,
      "metadata": {},
      "outputs": [],
      "source": [
        "df.drop(0, inplace=True) # Remove row for beta=-pi (same alpha as beta=+pi)\n",
        "df.drop(50, inplace=True) # Remove row for beta=0"
      ]
    },
    {
      "cell_type": "code",
      "execution_count": 8,
      "metadata": {},
      "outputs": [
        {
          "data": {
            "text/html": [
              "<div>\n",
              "<style scoped>\n",
              "    .dataframe tbody tr th:only-of-type {\n",
              "        vertical-align: middle;\n",
              "    }\n",
              "\n",
              "    .dataframe tbody tr th {\n",
              "        vertical-align: top;\n",
              "    }\n",
              "\n",
              "    .dataframe thead th {\n",
              "        text-align: right;\n",
              "    }\n",
              "</style>\n",
              "<table border=\"1\" class=\"dataframe\">\n",
              "  <thead>\n",
              "    <tr style=\"text-align: right;\">\n",
              "      <th></th>\n",
              "      <th>0</th>\n",
              "      <th>1</th>\n",
              "      <th>2</th>\n",
              "      <th>3</th>\n",
              "      <th>4</th>\n",
              "      <th>5</th>\n",
              "      <th>6</th>\n",
              "      <th>7</th>\n",
              "      <th>8</th>\n",
              "      <th>9</th>\n",
              "      <th>...</th>\n",
              "      <th>11</th>\n",
              "      <th>12</th>\n",
              "      <th>13</th>\n",
              "      <th>14</th>\n",
              "      <th>15</th>\n",
              "      <th>16</th>\n",
              "      <th>17</th>\n",
              "      <th>18</th>\n",
              "      <th>19</th>\n",
              "      <th>20</th>\n",
              "    </tr>\n",
              "  </thead>\n",
              "  <tbody>\n",
              "    <tr>\n",
              "      <th>1</th>\n",
              "      <td>-0.002227</td>\n",
              "      <td>-0.013359</td>\n",
              "      <td>-0.017554</td>\n",
              "      <td>-0.015438</td>\n",
              "      <td>-0.017162</td>\n",
              "      <td>-0.017211</td>\n",
              "      <td>-0.015443</td>\n",
              "      <td>-0.017591</td>\n",
              "      <td>-0.013627</td>\n",
              "      <td>-0.001845</td>\n",
              "      <td>...</td>\n",
              "      <td>0.000072</td>\n",
              "      <td>0.000049</td>\n",
              "      <td>0.000033</td>\n",
              "      <td>0.000031</td>\n",
              "      <td>-0.000007</td>\n",
              "      <td>0.000022</td>\n",
              "      <td>0.000083</td>\n",
              "      <td>1.993576e-05</td>\n",
              "      <td>0.000100</td>\n",
              "      <td>-3.078761</td>\n",
              "    </tr>\n",
              "    <tr>\n",
              "      <th>2</th>\n",
              "      <td>-0.003243</td>\n",
              "      <td>-0.014217</td>\n",
              "      <td>-0.016003</td>\n",
              "      <td>-0.015864</td>\n",
              "      <td>-0.015976</td>\n",
              "      <td>-0.015975</td>\n",
              "      <td>-0.015850</td>\n",
              "      <td>-0.016015</td>\n",
              "      <td>-0.014253</td>\n",
              "      <td>-0.003144</td>\n",
              "      <td>...</td>\n",
              "      <td>0.000021</td>\n",
              "      <td>0.000005</td>\n",
              "      <td>-0.000008</td>\n",
              "      <td>-0.000011</td>\n",
              "      <td>-0.000030</td>\n",
              "      <td>-0.000011</td>\n",
              "      <td>0.000028</td>\n",
              "      <td>1.926120e-06</td>\n",
              "      <td>0.000052</td>\n",
              "      <td>-3.015929</td>\n",
              "    </tr>\n",
              "    <tr>\n",
              "      <th>3</th>\n",
              "      <td>-0.002533</td>\n",
              "      <td>-0.013236</td>\n",
              "      <td>-0.015930</td>\n",
              "      <td>-0.015621</td>\n",
              "      <td>-0.015832</td>\n",
              "      <td>-0.015857</td>\n",
              "      <td>-0.015657</td>\n",
              "      <td>-0.015920</td>\n",
              "      <td>-0.013301</td>\n",
              "      <td>-0.002484</td>\n",
              "      <td>...</td>\n",
              "      <td>-0.000042</td>\n",
              "      <td>-0.000021</td>\n",
              "      <td>0.000003</td>\n",
              "      <td>0.000015</td>\n",
              "      <td>0.000036</td>\n",
              "      <td>0.000008</td>\n",
              "      <td>-0.000044</td>\n",
              "      <td>-2.058282e-05</td>\n",
              "      <td>-0.000058</td>\n",
              "      <td>-2.953097</td>\n",
              "    </tr>\n",
              "    <tr>\n",
              "      <th>4</th>\n",
              "      <td>-0.003137</td>\n",
              "      <td>-0.013546</td>\n",
              "      <td>-0.015116</td>\n",
              "      <td>-0.015012</td>\n",
              "      <td>-0.015091</td>\n",
              "      <td>-0.015093</td>\n",
              "      <td>-0.015003</td>\n",
              "      <td>-0.015126</td>\n",
              "      <td>-0.013592</td>\n",
              "      <td>-0.003011</td>\n",
              "      <td>...</td>\n",
              "      <td>0.000029</td>\n",
              "      <td>0.000011</td>\n",
              "      <td>-0.000001</td>\n",
              "      <td>-0.000003</td>\n",
              "      <td>-0.000029</td>\n",
              "      <td>-0.000007</td>\n",
              "      <td>0.000039</td>\n",
              "      <td>2.099520e-08</td>\n",
              "      <td>0.000067</td>\n",
              "      <td>-2.890265</td>\n",
              "    </tr>\n",
              "    <tr>\n",
              "      <th>5</th>\n",
              "      <td>-0.003040</td>\n",
              "      <td>-0.013286</td>\n",
              "      <td>-0.014874</td>\n",
              "      <td>-0.014792</td>\n",
              "      <td>-0.014853</td>\n",
              "      <td>-0.014853</td>\n",
              "      <td>-0.014784</td>\n",
              "      <td>-0.014882</td>\n",
              "      <td>-0.013323</td>\n",
              "      <td>-0.002937</td>\n",
              "      <td>...</td>\n",
              "      <td>0.000026</td>\n",
              "      <td>0.000010</td>\n",
              "      <td>-0.000001</td>\n",
              "      <td>-0.000003</td>\n",
              "      <td>-0.000029</td>\n",
              "      <td>-0.000008</td>\n",
              "      <td>0.000036</td>\n",
              "      <td>-3.342383e-06</td>\n",
              "      <td>0.000065</td>\n",
              "      <td>-2.827433</td>\n",
              "    </tr>\n",
              "  </tbody>\n",
              "</table>\n",
              "<p>5 rows × 21 columns</p>\n",
              "</div>"
            ],
            "text/plain": [
              "         0         1         2         3         4         5         6   \\\n",
              "1 -0.002227 -0.013359 -0.017554 -0.015438 -0.017162 -0.017211 -0.015443   \n",
              "2 -0.003243 -0.014217 -0.016003 -0.015864 -0.015976 -0.015975 -0.015850   \n",
              "3 -0.002533 -0.013236 -0.015930 -0.015621 -0.015832 -0.015857 -0.015657   \n",
              "4 -0.003137 -0.013546 -0.015116 -0.015012 -0.015091 -0.015093 -0.015003   \n",
              "5 -0.003040 -0.013286 -0.014874 -0.014792 -0.014853 -0.014853 -0.014784   \n",
              "\n",
              "         7         8         9   ...        11        12        13        14  \\\n",
              "1 -0.017591 -0.013627 -0.001845  ...  0.000072  0.000049  0.000033  0.000031   \n",
              "2 -0.016015 -0.014253 -0.003144  ...  0.000021  0.000005 -0.000008 -0.000011   \n",
              "3 -0.015920 -0.013301 -0.002484  ... -0.000042 -0.000021  0.000003  0.000015   \n",
              "4 -0.015126 -0.013592 -0.003011  ...  0.000029  0.000011 -0.000001 -0.000003   \n",
              "5 -0.014882 -0.013323 -0.002937  ...  0.000026  0.000010 -0.000001 -0.000003   \n",
              "\n",
              "         15        16        17            18        19        20  \n",
              "1 -0.000007  0.000022  0.000083  1.993576e-05  0.000100 -3.078761  \n",
              "2 -0.000030 -0.000011  0.000028  1.926120e-06  0.000052 -3.015929  \n",
              "3  0.000036  0.000008 -0.000044 -2.058282e-05 -0.000058 -2.953097  \n",
              "4 -0.000029 -0.000007  0.000039  2.099520e-08  0.000067 -2.890265  \n",
              "5 -0.000029 -0.000008  0.000036 -3.342383e-06  0.000065 -2.827433  \n",
              "\n",
              "[5 rows x 21 columns]"
            ]
          },
          "execution_count": 8,
          "metadata": {},
          "output_type": "execute_result"
        }
      ],
      "source": [
        "df.head()"
      ]
    },
    {
      "cell_type": "code",
      "execution_count": 9,
      "metadata": {},
      "outputs": [
        {
          "data": {
            "text/plain": [
              "(99, 21)"
            ]
          },
          "execution_count": 9,
          "metadata": {},
          "output_type": "execute_result"
        }
      ],
      "source": [
        "df.shape"
      ]
    },
    {
      "cell_type": "code",
      "execution_count": 11,
      "metadata": {
        "colab": {
          "base_uri": "https://localhost:8080/"
        },
        "id": "-LNlCPQk_1In",
        "outputId": "c69133a1-d1d5-48ee-dd24-a3a11754a6ec"
      },
      "outputs": [
        {
          "name": "stdout",
          "output_type": "stream",
          "text": [
            "2.8.0\n"
          ]
        }
      ],
      "source": [
        "import tensorflow as tf\n",
        "print(tf.__version__)"
      ]
    },
    {
      "cell_type": "code",
      "execution_count": 12,
      "metadata": {
        "id": "uLWYcDnkB3hn"
      },
      "outputs": [],
      "source": [
        "from sklearn.model_selection import train_test_split"
      ]
    },
    {
      "cell_type": "code",
      "execution_count": 13,
      "metadata": {
        "id": "mqzyJCn0A9XA"
      },
      "outputs": [],
      "source": [
        "x_train, x_test, Y_train, Y_test = train_test_split(df.iloc[:,20], df.iloc[:,:20], test_size=0.3, random_state=5)"
      ]
    },
    {
      "cell_type": "code",
      "execution_count": 14,
      "metadata": {},
      "outputs": [],
      "source": [
        "import qkeras\n",
        "from qkeras.qlayers import QDense, QActivation\n",
        "from qkeras.quantizers import quantized_bits, quantized_relu"
      ]
    },
    {
      "cell_type": "code",
      "execution_count": 16,
      "metadata": {},
      "outputs": [],
      "source": [
        "# Build quantized model\n",
        "model = tf.keras.models.Sequential()\n",
        "model.add(QDense(4, input_shape=(1,), name='fc1',\n",
        "                 kernel_quantizer=quantized_bits(14,2,alpha=1,qnoise_factor=1.0), bias_quantizer=quantized_bits(14,2,alpha=1,qnoise_factor=1.0),\n",
        "                 kernel_initializer='lecun_uniform'))\n",
        "model.add(QActivation(activation=quantized_relu(14,2,qnoise_factor=1.0), name='relu1'))\n",
        "model.add(QDense(8, name='fc2e',\n",
        "                 kernel_quantizer=quantized_bits(12,1,alpha=1,qnoise_factor=1.0), bias_quantizer=quantized_bits(12,2,alpha=1,qnoise_factor=1.0),\n",
        "                 kernel_initializer='lecun_uniform'))\n",
        "model.add(QActivation(activation=quantized_relu(12,2,qnoise_factor=1.0), name='relu2e'))\n",
        "model.add(QDense(11, name='fc3',\n",
        "                 kernel_quantizer=quantized_bits(10,0,alpha=1,qnoise_factor=1.0), bias_quantizer=quantized_bits(10,0,alpha=1,qnoise_factor=1.0),\n",
        "                 kernel_initializer='lecun_uniform'))\n",
        "model.add(QActivation(activation=quantized_relu(12,2,qnoise_factor=1.0), name='relu3'))\n",
        "model.add(QDense(11, name='fc3e',\n",
        "                 kernel_quantizer=quantized_bits(10,1,alpha=1,qnoise_factor=1.0), bias_quantizer=quantized_bits(10,2,alpha=1,qnoise_factor=1.0),\n",
        "                 kernel_initializer='lecun_uniform'))\n",
        "model.add(QActivation(activation=quantized_relu(10,2,qnoise_factor=1.0), name='relu3e'))\n",
        "model.add(QDense(11, name='fc3e2',\n",
        "                 kernel_quantizer=quantized_bits(10,1,alpha=1,qnoise_factor=1.0), bias_quantizer=quantized_bits(10,0,alpha=1,qnoise_factor=1.0),\n",
        "                 kernel_initializer='lecun_uniform'))\n",
        "model.add(QActivation(activation=quantized_relu(10,2,qnoise_factor=1.0), name='relu3e2'))\n",
        "model.add(QDense(11, name='fc3e4',\n",
        "                 kernel_quantizer=quantized_bits(10,1,alpha=1,qnoise_factor=1.0), bias_quantizer=quantized_bits(10,0,alpha=1,qnoise_factor=1.0),\n",
        "                 kernel_initializer='lecun_uniform'))\n",
        "model.add(QActivation(activation=quantized_relu(10,2,qnoise_factor=1.0), name='relu3e4'))\n",
        "model.add(QDense(11, name='fc3e3',\n",
        "                 kernel_quantizer=quantized_bits(10,1,alpha=1,qnoise_factor=1.0), bias_quantizer=quantized_bits(10,0,alpha=1,qnoise_factor=1.0),\n",
        "                 kernel_initializer='lecun_uniform'))\n",
        "model.add(QActivation(activation=quantized_relu(10,2,qnoise_factor=1.0), name='relu3e3'))\n",
        "model.add(QDense(20, name='output',\n",
        "                 kernel_quantizer=quantized_bits(12,0,alpha=1,qnoise_factor=1.0), bias_quantizer=quantized_bits(12,0,alpha=1,qnoise_factor=1.0),\n",
        "                 kernel_initializer='lecun_uniform'))"
      ]
    },
    {
      "cell_type": "code",
      "execution_count": 17,
      "metadata": {},
      "outputs": [],
      "source": [
        "from callbacks import all_callbacks"
      ]
    },
    {
      "cell_type": "code",
      "execution_count": 25,
      "metadata": {
        "id": "dDKUXrtdAa9y"
      },
      "outputs": [],
      "source": [
        "train = False # Set this to True to retrain the model. Otherwise, load trained model.\n",
        "if train:\n",
        "    model.compile(optimizer=tf.optimizers.Adam(lr=0.001),\n",
        "                  loss=tf.losses.MeanSquaredError(),\n",
        "                  metrics=[\n",
        "                      tf.metrics.MeanSquaredLogarithmicError(),\n",
        "                      tf.metrics.MeanSquaredError(),\n",
        "                      tf.metrics.MeanAbsolutePercentageError()\n",
        "                  ])\n",
        "    callbacks = all_callbacks(stop_patience=1000,\n",
        "                                lr_factor=0.5,\n",
        "                                lr_patience=100,\n",
        "                                lr_epsilon=0.000001,\n",
        "                                lr_cooldown=2,\n",
        "                                lr_minimum=0.0000001,\n",
        "                                outputDir=\"../model/training\")\n",
        "    model.fit(x_train, Y_train, epochs=5000, validation_split=0.30, callbacks=callbacks.callbacks, verbose=1)\n",
        "    model.save(\"../model/qmodel.h5\")\n",
        "else:\n",
        "    co = {}\n",
        "    qkeras.utils._add_supported_quantized_objects(co)\n",
        "    model = tf.keras.models.load_model(\"../model/qmodel.h5\", custom_objects=co)"
      ]
    },
    {
      "cell_type": "code",
      "execution_count": 24,
      "metadata": {
        "colab": {
          "base_uri": "https://localhost:8080/"
        },
        "id": "q69jMqr4GBle",
        "outputId": "11722559-7e19-4677-8311-986091bda2e8"
      },
      "outputs": [
        {
          "name": "stdout",
          "output_type": "stream",
          "text": [
            "1/1 [==============================] - 0s 42ms/step - loss: 9.6363e-08 - mean_squared_logarithmic_error: 7.1856e-08 - mean_squared_error: 9.6363e-08 - mean_absolute_percentage_error: 59.1056\n"
          ]
        },
        {
          "data": {
            "text/plain": [
              "[9.636322317874146e-08,\n",
              " 7.185615658045208e-08,\n",
              " 9.636322317874146e-08,\n",
              " 59.10564041137695]"
            ]
          },
          "execution_count": 24,
          "metadata": {},
          "output_type": "execute_result"
        }
      ],
      "source": [
        "model.evaluate(x_test, Y_test)"
      ]
    }
  ],
  "metadata": {
    "colab": {
      "collapsed_sections": [],
      "name": "ESP_Test2.ipynb",
      "provenance": []
    },
    "interpreter": {
      "hash": "4e0adb4a8ca4dada456bcea7bb9f1b34fa1ebdf26216634bf58f5556a087d47b"
    },
    "kernelspec": {
      "display_name": "Python 3.7.12 ('hls4ml-tutorial')",
      "language": "python",
      "name": "python3"
    },
    "language_info": {
      "codemirror_mode": {
        "name": "ipython",
        "version": 3
      },
      "file_extension": ".py",
      "mimetype": "text/x-python",
      "name": "python",
      "nbconvert_exporter": "python",
      "pygments_lexer": "ipython3",
      "version": "3.7.12"
    }
  },
  "nbformat": 4,
  "nbformat_minor": 0
}
